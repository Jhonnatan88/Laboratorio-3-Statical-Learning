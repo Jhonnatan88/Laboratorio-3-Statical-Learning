{
 "cells": [
  {
   "cell_type": "code",
   "execution_count": 149,
   "metadata": {
    "id": "25qvi1EBgwuX"
   },
   "outputs": [],
   "source": [
    "import numpy as np\n",
    "import pandas as pd \n",
    "import matplotlib.pyplot as plt\n",
    "from sklearn.preprocessing import MinMaxScaler\n",
    "from keras.models import Sequential\n",
    "from keras.layers import Dense\n",
    "from keras.layers import LSTM\n",
    "from keras.layers import Dropout\n",
    "\n",
    "from sklearn.preprocessing import StandardScaler\n",
    "from sklearn.model_selection import train_test_split\n",
    "\n",
    "#from google.colab import drive\n"
   ]
  },
  {
   "cell_type": "markdown",
   "metadata": {
    "id": "0hzaNUZvhDta"
   },
   "source": [
    "# Crando Data Frame"
   ]
  },
  {
   "cell_type": "code",
   "execution_count": 150,
   "metadata": {
    "id": "DtKATEw5ieOB"
   },
   "outputs": [],
   "source": [
    "train_csv = 'train.csv'"
   ]
  },
  {
   "cell_type": "code",
   "execution_count": 151,
   "metadata": {
    "id": "kZ0u9ZKDi9Ob"
   },
   "outputs": [],
   "source": [
    "dataset = pd.read_csv(train_csv)"
   ]
  },
  {
   "cell_type": "code",
   "execution_count": 152,
   "metadata": {
    "id": "Bx7VzihGfSzM"
   },
   "outputs": [],
   "source": [
    "#dataTrain = pd.read_csv(path)"
   ]
  },
  {
   "cell_type": "code",
   "execution_count": 153,
   "metadata": {
    "id": "byuT9ibihHI_"
   },
   "outputs": [],
   "source": [
    "#from google.colab import files\n",
    "#files.upload()"
   ]
  },
  {
   "cell_type": "code",
   "execution_count": 154,
   "metadata": {
    "id": "Moqy0mRPhpi4"
   },
   "outputs": [],
   "source": [
    "#dataset = pd.read_csv(\"train.csv\")"
   ]
  },
  {
   "cell_type": "code",
   "execution_count": 155,
   "metadata": {
    "colab": {
     "base_uri": "https://localhost:8080/",
     "height": 206
    },
    "id": "nKfRZMnyi4u0",
    "outputId": "a1da5dd5-90dd-438f-cf17-36e7c3e1e5ba"
   },
   "outputs": [
    {
     "data": {
      "text/html": [
       "<div>\n",
       "<style scoped>\n",
       "    .dataframe tbody tr th:only-of-type {\n",
       "        vertical-align: middle;\n",
       "    }\n",
       "\n",
       "    .dataframe tbody tr th {\n",
       "        vertical-align: top;\n",
       "    }\n",
       "\n",
       "    .dataframe thead th {\n",
       "        text-align: right;\n",
       "    }\n",
       "</style>\n",
       "<table border=\"1\" class=\"dataframe\">\n",
       "  <thead>\n",
       "    <tr style=\"text-align: right;\">\n",
       "      <th></th>\n",
       "      <th>date</th>\n",
       "      <th>store</th>\n",
       "      <th>item</th>\n",
       "      <th>sales</th>\n",
       "    </tr>\n",
       "  </thead>\n",
       "  <tbody>\n",
       "    <tr>\n",
       "      <th>0</th>\n",
       "      <td>2013-01-01</td>\n",
       "      <td>1</td>\n",
       "      <td>1</td>\n",
       "      <td>13</td>\n",
       "    </tr>\n",
       "    <tr>\n",
       "      <th>1</th>\n",
       "      <td>2013-01-02</td>\n",
       "      <td>1</td>\n",
       "      <td>1</td>\n",
       "      <td>11</td>\n",
       "    </tr>\n",
       "    <tr>\n",
       "      <th>2</th>\n",
       "      <td>2013-01-03</td>\n",
       "      <td>1</td>\n",
       "      <td>1</td>\n",
       "      <td>14</td>\n",
       "    </tr>\n",
       "    <tr>\n",
       "      <th>3</th>\n",
       "      <td>2013-01-04</td>\n",
       "      <td>1</td>\n",
       "      <td>1</td>\n",
       "      <td>13</td>\n",
       "    </tr>\n",
       "    <tr>\n",
       "      <th>4</th>\n",
       "      <td>2013-01-05</td>\n",
       "      <td>1</td>\n",
       "      <td>1</td>\n",
       "      <td>10</td>\n",
       "    </tr>\n",
       "  </tbody>\n",
       "</table>\n",
       "</div>"
      ],
      "text/plain": [
       "         date  store  item  sales\n",
       "0  2013-01-01      1     1     13\n",
       "1  2013-01-02      1     1     11\n",
       "2  2013-01-03      1     1     14\n",
       "3  2013-01-04      1     1     13\n",
       "4  2013-01-05      1     1     10"
      ]
     },
     "execution_count": 155,
     "metadata": {},
     "output_type": "execute_result"
    }
   ],
   "source": [
    "dataset.head()"
   ]
  },
  {
   "cell_type": "code",
   "execution_count": 156,
   "metadata": {
    "id": "aX_eKcGwjFnf"
   },
   "outputs": [],
   "source": [
    "# VALIDANDO CANTIDAD DE TIENDAS Y PRODUCTOS"
   ]
  },
  {
   "cell_type": "code",
   "execution_count": 157,
   "metadata": {
    "colab": {
     "base_uri": "https://localhost:8080/"
    },
    "id": "gNM9IO2ejGqr",
    "outputId": "53f0d2de-6475-4d0a-f95c-c47a9c322371"
   },
   "outputs": [
    {
     "name": "stdout",
     "output_type": "stream",
     "text": [
      "[ 1  2  3  4  5  6  7  8  9 10]\n"
     ]
    }
   ],
   "source": [
    "print(dataset['store'].unique())"
   ]
  },
  {
   "cell_type": "code",
   "execution_count": 158,
   "metadata": {
    "colab": {
     "base_uri": "https://localhost:8080/"
    },
    "id": "56_N6aAQjH48",
    "outputId": "22d6bba5-dd2d-40ca-94a4-53786cf48afa"
   },
   "outputs": [
    {
     "name": "stdout",
     "output_type": "stream",
     "text": [
      "[ 1  2  3  4  5  6  7  8  9 10 11 12 13 14 15 16 17 18 19 20 21 22 23 24\n",
      " 25 26 27 28 29 30 31 32 33 34 35 36 37 38 39 40 41 42 43 44 45 46 47 48\n",
      " 49 50]\n"
     ]
    }
   ],
   "source": [
    "print(dataset['item'].unique())"
   ]
  },
  {
   "cell_type": "code",
   "execution_count": 159,
   "metadata": {
    "colab": {
     "base_uri": "https://localhost:8080/"
    },
    "id": "z595b7tMjIsQ",
    "outputId": "5613c819-ee24-4bd5-c13c-7d38e344c6a1"
   },
   "outputs": [
    {
     "name": "stdout",
     "output_type": "stream",
     "text": [
      "[ 13  11  14  10  12   9   7   5  16  18  15   8   6  21  20  17  22  19\n",
      "  24  23  26  25  27  38  34  29  31  30   4  36  28  33  32  37  35  43\n",
      "  40  41  39  42  50  45  44  47  53  49  46  48  51  58  54  57  55  52\n",
      "   3   2   1  59  56  60  63  69  64  67  65  71  61  73  62  82  78  68\n",
      "  74  70  87  66  77  88  76  75 102  72  92  86  79  85  81  90  84  80\n",
      " 103  97  96  95  89 104  94 100  91  83 106 101  98 115  93 111 119  99\n",
      " 108 110 120 105 126 109 114 113 112 121 107 117 118 139 124 131 123 138\n",
      " 134 127 136 116 125 122 128 150 129 135 137 132 133 145 130 144   0 148\n",
      " 141 140 152 147 169 156 159 153 142 157 155 163 143 154 165 146 160 158\n",
      " 151 164 171 161 177 162 175 181 168 167 149 174 170 176 178 166 173 187\n",
      " 182 189 179 172 204 180 190 191 210 184 183 186 185 199 196 194 197 207\n",
      " 209 195 198 231 205 192 200 193 188 208 201 214 206 203 202]\n"
     ]
    }
   ],
   "source": [
    "print(dataset['sales'].unique())"
   ]
  },
  {
   "cell_type": "code",
   "execution_count": 160,
   "metadata": {
    "colab": {
     "base_uri": "https://localhost:8080/"
    },
    "id": "orMZsqA5jK91",
    "outputId": "044df036-ebc0-4e6d-de9c-c4ec17252d96"
   },
   "outputs": [
    {
     "data": {
      "text/plain": [
       "False"
      ]
     },
     "execution_count": 160,
     "metadata": {},
     "output_type": "execute_result"
    }
   ],
   "source": [
    "dataset.isnull().values.any()"
   ]
  },
  {
   "cell_type": "code",
   "execution_count": 161,
   "metadata": {
    "colab": {
     "base_uri": "https://localhost:8080/"
    },
    "id": "4Itk2CchjMI2",
    "outputId": "12d1cf55-a6a5-407e-ec85-0100b691cf4f"
   },
   "outputs": [
    {
     "data": {
      "text/plain": [
       "(913000, 4)"
      ]
     },
     "execution_count": 161,
     "metadata": {},
     "output_type": "execute_result"
    }
   ],
   "source": [
    "dataset.shape"
   ]
  },
  {
   "cell_type": "code",
   "execution_count": 162,
   "metadata": {
    "colab": {
     "base_uri": "https://localhost:8080/"
    },
    "id": "kPd9RrJDjM8H",
    "outputId": "5f5f9e0b-9359-479f-f9a3-16f4095f548b"
   },
   "outputs": [
    {
     "data": {
      "text/plain": [
       "date     object\n",
       "store     int64\n",
       "item      int64\n",
       "sales     int64\n",
       "dtype: object"
      ]
     },
     "execution_count": 162,
     "metadata": {},
     "output_type": "execute_result"
    }
   ],
   "source": [
    "dataset.dtypes"
   ]
  },
  {
   "cell_type": "code",
   "execution_count": 163,
   "metadata": {
    "colab": {
     "base_uri": "https://localhost:8080/"
    },
    "id": "A6Nalv2RjN1U",
    "outputId": "1d78d554-769d-4107-c8a3-54811afb1c47"
   },
   "outputs": [
    {
     "data": {
      "text/plain": [
       "date     datetime64[ns]\n",
       "store             int64\n",
       "item              int64\n",
       "sales             int64\n",
       "dtype: object"
      ]
     },
     "execution_count": 163,
     "metadata": {},
     "output_type": "execute_result"
    }
   ],
   "source": [
    "dataset['date'] = pd.to_datetime(dataset['date'])\n",
    "dataset.dtypes"
   ]
  },
  {
   "cell_type": "code",
   "execution_count": 164,
   "metadata": {
    "colab": {
     "base_uri": "https://localhost:8080/",
     "height": 206
    },
    "id": "-B-7aWepjO7L",
    "outputId": "2a62e6e3-5665-4c28-e213-bb7ed5283b2a"
   },
   "outputs": [
    {
     "data": {
      "text/html": [
       "<div>\n",
       "<style scoped>\n",
       "    .dataframe tbody tr th:only-of-type {\n",
       "        vertical-align: middle;\n",
       "    }\n",
       "\n",
       "    .dataframe tbody tr th {\n",
       "        vertical-align: top;\n",
       "    }\n",
       "\n",
       "    .dataframe thead th {\n",
       "        text-align: right;\n",
       "    }\n",
       "</style>\n",
       "<table border=\"1\" class=\"dataframe\">\n",
       "  <thead>\n",
       "    <tr style=\"text-align: right;\">\n",
       "      <th></th>\n",
       "      <th>date</th>\n",
       "      <th>store</th>\n",
       "      <th>item</th>\n",
       "      <th>sales</th>\n",
       "    </tr>\n",
       "  </thead>\n",
       "  <tbody>\n",
       "    <tr>\n",
       "      <th>0</th>\n",
       "      <td>2013-01-01</td>\n",
       "      <td>1</td>\n",
       "      <td>1</td>\n",
       "      <td>13</td>\n",
       "    </tr>\n",
       "    <tr>\n",
       "      <th>1</th>\n",
       "      <td>2013-01-02</td>\n",
       "      <td>1</td>\n",
       "      <td>1</td>\n",
       "      <td>11</td>\n",
       "    </tr>\n",
       "    <tr>\n",
       "      <th>2</th>\n",
       "      <td>2013-01-03</td>\n",
       "      <td>1</td>\n",
       "      <td>1</td>\n",
       "      <td>14</td>\n",
       "    </tr>\n",
       "    <tr>\n",
       "      <th>3</th>\n",
       "      <td>2013-01-04</td>\n",
       "      <td>1</td>\n",
       "      <td>1</td>\n",
       "      <td>13</td>\n",
       "    </tr>\n",
       "    <tr>\n",
       "      <th>4</th>\n",
       "      <td>2013-01-05</td>\n",
       "      <td>1</td>\n",
       "      <td>1</td>\n",
       "      <td>10</td>\n",
       "    </tr>\n",
       "  </tbody>\n",
       "</table>\n",
       "</div>"
      ],
      "text/plain": [
       "        date  store  item  sales\n",
       "0 2013-01-01      1     1     13\n",
       "1 2013-01-02      1     1     11\n",
       "2 2013-01-03      1     1     14\n",
       "3 2013-01-04      1     1     13\n",
       "4 2013-01-05      1     1     10"
      ]
     },
     "execution_count": 164,
     "metadata": {},
     "output_type": "execute_result"
    }
   ],
   "source": [
    "dataset.head()"
   ]
  },
  {
   "cell_type": "code",
   "execution_count": 165,
   "metadata": {
    "id": "EEG3HsyUjP5u"
   },
   "outputs": [],
   "source": [
    "# Distribucion por tienda e item"
   ]
  },
  {
   "cell_type": "code",
   "execution_count": 166,
   "metadata": {
    "id": "S-4uJKSnjRir"
   },
   "outputs": [],
   "source": [
    "store1 = dataset[dataset['store'] == 1] "
   ]
  },
  {
   "cell_type": "code",
   "execution_count": 167,
   "metadata": {
    "colab": {
     "base_uri": "https://localhost:8080/",
     "height": 206
    },
    "id": "jVWiVfWGjSoI",
    "outputId": "631b8604-73a3-4a60-9030-3acf9f423b3f"
   },
   "outputs": [
    {
     "data": {
      "text/html": [
       "<div>\n",
       "<style scoped>\n",
       "    .dataframe tbody tr th:only-of-type {\n",
       "        vertical-align: middle;\n",
       "    }\n",
       "\n",
       "    .dataframe tbody tr th {\n",
       "        vertical-align: top;\n",
       "    }\n",
       "\n",
       "    .dataframe thead th {\n",
       "        text-align: right;\n",
       "    }\n",
       "</style>\n",
       "<table border=\"1\" class=\"dataframe\">\n",
       "  <thead>\n",
       "    <tr style=\"text-align: right;\">\n",
       "      <th></th>\n",
       "      <th>date</th>\n",
       "      <th>store</th>\n",
       "      <th>item</th>\n",
       "      <th>sales</th>\n",
       "    </tr>\n",
       "  </thead>\n",
       "  <tbody>\n",
       "    <tr>\n",
       "      <th>0</th>\n",
       "      <td>2013-01-01</td>\n",
       "      <td>1</td>\n",
       "      <td>1</td>\n",
       "      <td>13</td>\n",
       "    </tr>\n",
       "    <tr>\n",
       "      <th>1</th>\n",
       "      <td>2013-01-02</td>\n",
       "      <td>1</td>\n",
       "      <td>1</td>\n",
       "      <td>11</td>\n",
       "    </tr>\n",
       "    <tr>\n",
       "      <th>2</th>\n",
       "      <td>2013-01-03</td>\n",
       "      <td>1</td>\n",
       "      <td>1</td>\n",
       "      <td>14</td>\n",
       "    </tr>\n",
       "    <tr>\n",
       "      <th>3</th>\n",
       "      <td>2013-01-04</td>\n",
       "      <td>1</td>\n",
       "      <td>1</td>\n",
       "      <td>13</td>\n",
       "    </tr>\n",
       "    <tr>\n",
       "      <th>4</th>\n",
       "      <td>2013-01-05</td>\n",
       "      <td>1</td>\n",
       "      <td>1</td>\n",
       "      <td>10</td>\n",
       "    </tr>\n",
       "  </tbody>\n",
       "</table>\n",
       "</div>"
      ],
      "text/plain": [
       "        date  store  item  sales\n",
       "0 2013-01-01      1     1     13\n",
       "1 2013-01-02      1     1     11\n",
       "2 2013-01-03      1     1     14\n",
       "3 2013-01-04      1     1     13\n",
       "4 2013-01-05      1     1     10"
      ]
     },
     "execution_count": 167,
     "metadata": {},
     "output_type": "execute_result"
    }
   ],
   "source": [
    "store1.head()"
   ]
  },
  {
   "cell_type": "code",
   "execution_count": 168,
   "metadata": {
    "id": "icNYscTGjT0S"
   },
   "outputs": [],
   "source": [
    "store1 = store1[store1['item'] == 2] "
   ]
  },
  {
   "cell_type": "code",
   "execution_count": 169,
   "metadata": {
    "colab": {
     "base_uri": "https://localhost:8080/",
     "height": 206
    },
    "id": "1z8A5XCVjUuE",
    "outputId": "eca6bd88-f1a9-40a9-c867-0d71fb4afec7"
   },
   "outputs": [
    {
     "data": {
      "text/html": [
       "<div>\n",
       "<style scoped>\n",
       "    .dataframe tbody tr th:only-of-type {\n",
       "        vertical-align: middle;\n",
       "    }\n",
       "\n",
       "    .dataframe tbody tr th {\n",
       "        vertical-align: top;\n",
       "    }\n",
       "\n",
       "    .dataframe thead th {\n",
       "        text-align: right;\n",
       "    }\n",
       "</style>\n",
       "<table border=\"1\" class=\"dataframe\">\n",
       "  <thead>\n",
       "    <tr style=\"text-align: right;\">\n",
       "      <th></th>\n",
       "      <th>date</th>\n",
       "      <th>store</th>\n",
       "      <th>item</th>\n",
       "      <th>sales</th>\n",
       "    </tr>\n",
       "  </thead>\n",
       "  <tbody>\n",
       "    <tr>\n",
       "      <th>18260</th>\n",
       "      <td>2013-01-01</td>\n",
       "      <td>1</td>\n",
       "      <td>2</td>\n",
       "      <td>33</td>\n",
       "    </tr>\n",
       "    <tr>\n",
       "      <th>18261</th>\n",
       "      <td>2013-01-02</td>\n",
       "      <td>1</td>\n",
       "      <td>2</td>\n",
       "      <td>43</td>\n",
       "    </tr>\n",
       "    <tr>\n",
       "      <th>18262</th>\n",
       "      <td>2013-01-03</td>\n",
       "      <td>1</td>\n",
       "      <td>2</td>\n",
       "      <td>23</td>\n",
       "    </tr>\n",
       "    <tr>\n",
       "      <th>18263</th>\n",
       "      <td>2013-01-04</td>\n",
       "      <td>1</td>\n",
       "      <td>2</td>\n",
       "      <td>18</td>\n",
       "    </tr>\n",
       "    <tr>\n",
       "      <th>18264</th>\n",
       "      <td>2013-01-05</td>\n",
       "      <td>1</td>\n",
       "      <td>2</td>\n",
       "      <td>34</td>\n",
       "    </tr>\n",
       "  </tbody>\n",
       "</table>\n",
       "</div>"
      ],
      "text/plain": [
       "            date  store  item  sales\n",
       "18260 2013-01-01      1     2     33\n",
       "18261 2013-01-02      1     2     43\n",
       "18262 2013-01-03      1     2     23\n",
       "18263 2013-01-04      1     2     18\n",
       "18264 2013-01-05      1     2     34"
      ]
     },
     "execution_count": 169,
     "metadata": {},
     "output_type": "execute_result"
    }
   ],
   "source": [
    "store1.head()"
   ]
  },
  {
   "cell_type": "code",
   "execution_count": 170,
   "metadata": {
    "id": "mZMTSb_cjVdo"
   },
   "outputs": [],
   "source": [
    "store1 = dataset.iloc[:, 2:3].values"
   ]
  },
  {
   "cell_type": "code",
   "execution_count": 171,
   "metadata": {
    "colab": {
     "base_uri": "https://localhost:8080/",
     "height": 295
    },
    "id": "_ZhFDc6HjWcj",
    "outputId": "9abaa3c9-671e-474b-e88f-ce3162516aa7"
   },
   "outputs": [
    {
     "data": {
      "image/png": "[encoded data removed]",
      "text/plain": [
       "<Figure size 640x480 with 1 Axes>"
      ]
     },
     "metadata": {},
     "output_type": "display_data"
    }
   ],
   "source": [
    "plt.plot(store1, color = 'red', label = 'Data Train' )\n",
    "plt.title('Prediccion RNN vs Real')\n",
    "plt.xlabel(\"Indice\")\n",
    "plt.ylabel(\"Precio de Accion\")\n",
    "plt.legend()\n",
    "plt.show()"
   ]
  },
  {
   "cell_type": "code",
   "execution_count": 172,
   "metadata": {
    "id": "uy28l1TljXih"
   },
   "outputs": [],
   "source": [
    "# INGIENERIA DE CARACTERISTICAS"
   ]
  },
  {
   "cell_type": "code",
   "execution_count": 173,
   "metadata": {
    "id": "tGxi2CeRjZxF"
   },
   "outputs": [],
   "source": [
    "scaler = MinMaxScaler(feature_range =(0,1))\n",
    "dataset_scaled = scaler.fit_transform(dataset.iloc[: ,1:4])"
   ]
  },
  {
   "cell_type": "code",
   "execution_count": 174,
   "metadata": {
    "colab": {
     "base_uri": "https://localhost:8080/"
    },
    "id": "51WgVJF3ja1t",
    "outputId": "98729752-671c-4b45-f118-d492ab58cf6f"
   },
   "outputs": [
    {
     "data": {
      "text/plain": [
       "array([[0.        , 0.        , 0.05627706],\n",
       "       [0.        , 0.        , 0.04761905],\n",
       "       [0.        , 0.        , 0.06060606],\n",
       "       ...,\n",
       "       [1.        , 1.        , 0.32034632],\n",
       "       [1.        , 1.        , 0.26839827],\n",
       "       [1.        , 1.        , 0.35497835]])"
      ]
     },
     "execution_count": 174,
     "metadata": {},
     "output_type": "execute_result"
    }
   ],
   "source": [
    "dataset_scaled"
   ]
  },
  {
   "cell_type": "code",
   "execution_count": 175,
   "metadata": {
    "id": "82RoIr2RjbqU"
   },
   "outputs": [],
   "source": [
    "fecha = np.asarray(dataset['date'])"
   ]
  },
  {
   "cell_type": "code",
   "execution_count": 176,
   "metadata": {
    "colab": {
     "base_uri": "https://localhost:8080/"
    },
    "id": "J5808qGtjcx3",
    "outputId": "deed8143-6dbe-4d47-d2d2-00ff2d2e014a"
   },
   "outputs": [
    {
     "data": {
      "text/plain": [
       "array(['2013-01-01T00:00:00.000000000', '2013-01-02T00:00:00.000000000',\n",
       "       '2013-01-03T00:00:00.000000000', ...,\n",
       "       '2017-12-29T00:00:00.000000000', '2017-12-30T00:00:00.000000000',\n",
       "       '2017-12-31T00:00:00.000000000'], dtype='datetime64[ns]')"
      ]
     },
     "execution_count": 176,
     "metadata": {},
     "output_type": "execute_result"
    }
   ],
   "source": [
    "#dataset_scaled = np.concatenate((fecha, dataset_scaled))\n",
    "fecha"
   ]
  },
  {
   "cell_type": "code",
   "execution_count": 177,
   "metadata": {
    "id": "_M-7tsutjdmS"
   },
   "outputs": [],
   "source": [
    "# SEGMENTACION DE DATA PARA ENTRENAMIENTO"
   ]
  },
  {
   "cell_type": "code",
   "execution_count": 178,
   "metadata": {
    "id": "U3Zef2_yjfac"
   },
   "outputs": [],
   "source": [
    "x = dataset.iloc[:, dataset.columns != 'sales']\n",
    "x = x.iloc[:, x.columns != 'date']\n",
    "y = dataset.iloc[:,2:3].values"
   ]
  },
  {
   "cell_type": "code",
   "execution_count": 179,
   "metadata": {
    "colab": {
     "base_uri": "https://localhost:8080/"
    },
    "id": "jIB93L4sjgXK",
    "outputId": "1414d69e-078f-4846-b51f-cf99a38ad0e3"
   },
   "outputs": [
    {
     "data": {
      "text/plain": [
       "array([[ 1],\n",
       "       [ 1],\n",
       "       [ 1],\n",
       "       ...,\n",
       "       [50],\n",
       "       [50],\n",
       "       [50]], dtype=int64)"
      ]
     },
     "execution_count": 179,
     "metadata": {},
     "output_type": "execute_result"
    }
   ],
   "source": [
    "#x = x.values.tolist()\n",
    "y"
   ]
  },
  {
   "cell_type": "code",
   "execution_count": 180,
   "metadata": {
    "colab": {
     "base_uri": "https://localhost:8080/"
    },
    "id": "4z512iwpjhSQ",
    "outputId": "26370a69-4661-4c1b-f950-47384dbbffd1"
   },
   "outputs": [
    {
     "name": "stdout",
     "output_type": "stream",
     "text": [
      "[[ 1  1]\n",
      " [ 1  1]\n",
      " [ 1  1]\n",
      " ...\n",
      " [10 50]\n",
      " [10 50]\n",
      " [10 50]]\n",
      "<class 'numpy.ndarray'>\n"
     ]
    }
   ],
   "source": [
    "x_train =x.to_numpy()\n",
    "print(x_train) \n",
    "print(type(x_train))"
   ]
  },
  {
   "cell_type": "code",
   "execution_count": 181,
   "metadata": {
    "colab": {
     "base_uri": "https://localhost:8080/"
    },
    "id": "S0y48kWojiMe",
    "outputId": "6adb9efe-17f9-4571-839c-2a2835ed889e"
   },
   "outputs": [
    {
     "name": "stdout",
     "output_type": "stream",
     "text": [
      "[[ 1]\n",
      " [ 1]\n",
      " [ 1]\n",
      " ...\n",
      " [50]\n",
      " [50]\n",
      " [50]]\n",
      "<class 'numpy.ndarray'>\n"
     ]
    }
   ],
   "source": [
    "y_train =y\n",
    "print(y_train) \n",
    "print(type(y_train))"
   ]
  },
  {
   "cell_type": "code",
   "execution_count": 201,
   "metadata": {
    "id": "gGnBp0hYgqJD"
   },
   "outputs": [],
   "source": [
    "X_train = []\n",
    "Y_train = []\n",
    "\n",
    "#secuenciamos los datos.\n",
    "cantidad = dataset_scaled.shape[0]\n",
    "ventana = 30\n",
    "for i in range(ventana, cantidad):\n",
    "  X_train.append(dataset_scaled[i - ventana: i, 0])\n",
    "  Y_train.append(dataset_scaled[i, 0])"
   ]
  },
  {
   "cell_type": "code",
   "execution_count": 202,
   "metadata": {
    "id": "ME9cgC9kjkQU"
   },
   "outputs": [],
   "source": [
    "X_train = np.array(X_train)\n",
    "y_train = np.array(Y_train)"
   ]
  },
  {
   "cell_type": "code",
   "execution_count": 206,
   "metadata": {},
   "outputs": [
    {
     "data": {
      "text/plain": [
       "((912970, 30), (912970,))"
      ]
     },
     "execution_count": 206,
     "metadata": {},
     "output_type": "execute_result"
    }
   ],
   "source": [
    "X_train.shape, y_train.shape"
   ]
  },
  {
   "cell_type": "code",
   "execution_count": 207,
   "metadata": {},
   "outputs": [],
   "source": [
    "y_train_2da_parte = y_train"
   ]
  },
  {
   "cell_type": "code",
   "execution_count": 208,
   "metadata": {
    "id": "WBaLK8p2h_Ci"
   },
   "outputs": [],
   "source": [
    "X_train = np.reshape(X_train, (X_train.shape[0], X_train.shape[1], 1)) #reshape para entrada en Keras"
   ]
  },
  {
   "cell_type": "code",
   "execution_count": 209,
   "metadata": {
    "colab": {
     "base_uri": "https://localhost:8080/"
    },
    "id": "8tsWL5ydiFuR",
    "outputId": "c247dc91-7e9f-49e4-d358-3d185016e0f5"
   },
   "outputs": [
    {
     "data": {
      "text/plain": [
       "((912970,), (912970, 30, 1))"
      ]
     },
     "execution_count": 209,
     "metadata": {},
     "output_type": "execute_result"
    }
   ],
   "source": [
    "y_train.shape,X_train.shape"
   ]
  },
  {
   "cell_type": "code",
   "execution_count": 210,
   "metadata": {
    "id": "2bNt34S-jlQV"
   },
   "outputs": [],
   "source": [
    "#particion de data para entrenamiento y prueba\n",
    "x_train, x_test, y_train, y_test = train_test_split(X_train,y_train ,test_size =0.2, random_state = 2022, shuffle = True)"
   ]
  },
  {
   "cell_type": "code",
   "execution_count": 211,
   "metadata": {
    "colab": {
     "base_uri": "https://localhost:8080/"
    },
    "id": "j_BETFuhjnDr",
    "outputId": "25c506df-0092-4c6c-dd95-6a4de28d9252"
   },
   "outputs": [
    {
     "data": {
      "text/plain": [
       "((730376, 30, 1), (730376,))"
      ]
     },
     "execution_count": 211,
     "metadata": {},
     "output_type": "execute_result"
    }
   ],
   "source": [
    "x_train.shape, y_train.shape"
   ]
  },
  {
   "cell_type": "code",
   "execution_count": 191,
   "metadata": {
    "colab": {
     "base_uri": "https://localhost:8080/"
    },
    "id": "zLI_U3TbjwIP",
    "outputId": "c8a93627-ec92-4a08-9f29-356af15d835c"
   },
   "outputs": [
    {
     "data": {
      "text/plain": [
       "array([[[0.        ],\n",
       "        [0.        ],\n",
       "        [0.        ],\n",
       "        ...,\n",
       "        [0.        ],\n",
       "        [0.        ],\n",
       "        [0.        ]],\n",
       "\n",
       "       [[1.        ],\n",
       "        [1.        ],\n",
       "        [1.        ],\n",
       "        ...,\n",
       "        [1.        ],\n",
       "        [1.        ],\n",
       "        [1.        ]],\n",
       "\n",
       "       [[0.11111111],\n",
       "        [0.11111111],\n",
       "        [0.11111111],\n",
       "        ...,\n",
       "        [0.11111111],\n",
       "        [0.11111111],\n",
       "        [0.11111111]],\n",
       "\n",
       "       ...,\n",
       "\n",
       "       [[0.        ],\n",
       "        [0.        ],\n",
       "        [0.        ],\n",
       "        ...,\n",
       "        [0.        ],\n",
       "        [0.        ],\n",
       "        [0.        ]],\n",
       "\n",
       "       [[0.11111111],\n",
       "        [0.11111111],\n",
       "        [0.11111111],\n",
       "        ...,\n",
       "        [0.11111111],\n",
       "        [0.11111111],\n",
       "        [0.11111111]],\n",
       "\n",
       "       [[0.11111111],\n",
       "        [0.11111111],\n",
       "        [0.11111111],\n",
       "        ...,\n",
       "        [0.11111111],\n",
       "        [0.11111111],\n",
       "        [0.11111111]]])"
      ]
     },
     "execution_count": 191,
     "metadata": {},
     "output_type": "execute_result"
    }
   ],
   "source": [
    "x_train"
   ]
  },
  {
   "cell_type": "code",
   "execution_count": 192,
   "metadata": {
    "id": "so8TPSl1jxNe"
   },
   "outputs": [],
   "source": [
    "trainX = np.reshape(x_train, (x_train.shape[0], x_train.shape[1]))\n",
    "testX = np.reshape(x_test, (x_test.shape[0],  x_test.shape[1]))"
   ]
  },
  {
   "cell_type": "code",
   "execution_count": 193,
   "metadata": {
    "colab": {
     "base_uri": "https://localhost:8080/"
    },
    "id": "gvl5hSWTjyXy",
    "outputId": "b5404a12-8f00-42cc-e58a-7a1a11d4da30"
   },
   "outputs": [
    {
     "data": {
      "text/plain": [
       "array([[0.        , 0.        , 0.        , ..., 0.        , 0.        ,\n",
       "        0.        ],\n",
       "       [1.        , 1.        , 1.        , ..., 1.        , 1.        ,\n",
       "        1.        ],\n",
       "       [0.11111111, 0.11111111, 0.11111111, ..., 0.11111111, 0.11111111,\n",
       "        0.11111111],\n",
       "       ...,\n",
       "       [0.        , 0.        , 0.        , ..., 0.        , 0.        ,\n",
       "        0.        ],\n",
       "       [0.11111111, 0.11111111, 0.11111111, ..., 0.11111111, 0.11111111,\n",
       "        0.11111111],\n",
       "       [0.11111111, 0.11111111, 0.11111111, ..., 0.11111111, 0.11111111,\n",
       "        0.11111111]])"
      ]
     },
     "execution_count": 193,
     "metadata": {},
     "output_type": "execute_result"
    }
   ],
   "source": [
    "trainX"
   ]
  },
  {
   "cell_type": "code",
   "execution_count": 138,
   "metadata": {
    "id": "jXdO7oyOjzH1"
   },
   "outputs": [],
   "source": [
    "forecaster = Sequential()\n",
    "#capa1\n",
    "forecaster.add(LSTM(input_shape=(trainX.shape[1], 1), units=50, return_sequences=True))\n",
    "#capa2\n",
    "forecaster.add(LSTM(units=50, return_sequences=True))\n",
    "#capa3\n",
    "forecaster.add(LSTM(units=25, return_sequences=True))\n",
    "#capa4 - NOTAAAAR :) que la capa previa a la salida, no requiere feedback ya que es el resultado final.\n",
    "forecaster.add(LSTM(units=75, return_sequences=False))\n",
    "#capa de salida\n",
    "forecaster.add(Dense(units=1, activation='relu'))\n",
    "\n",
    "#parametros de optimización\n",
    "forecaster.compile(optimizer='adam', loss='mean_squared_error')"
   ]
  },
  {
   "cell_type": "code",
   "execution_count": 74,
   "metadata": {
    "colab": {
     "base_uri": "https://localhost:8080/",
     "height": 491
    },
    "id": "MeDuPpE4kfi7",
    "outputId": "2227c599-ca46-4ad0-cc1e-53322818211f"
   },
   "outputs": [
    {
     "name": "stdout",
     "output_type": "stream",
     "text": [
      "Epoch 1/80\n",
      "22825/22825 [==============================] - 634s 28ms/step - loss: 0.3521\n",
      "Epoch 2/80\n",
      "22825/22825 [==============================] - 624s 27ms/step - loss: 0.3521\n",
      "Epoch 3/80\n",
      "22825/22825 [==============================] - 621s 27ms/step - loss: 0.3521\n",
      "Epoch 4/80\n",
      "22825/22825 [==============================] - 621s 27ms/step - loss: 0.3521\n",
      "Epoch 5/80\n",
      "22825/22825 [==============================] - 620s 27ms/step - loss: 0.3521\n",
      "Epoch 6/80\n",
      "22825/22825 [==============================] - 619s 27ms/step - loss: 0.3521\n",
      "Epoch 7/80\n",
      "22825/22825 [==============================] - 618s 27ms/step - loss: 0.3521\n",
      "Epoch 8/80\n",
      "22825/22825 [==============================] - 618s 27ms/step - loss: 0.3521\n",
      "Epoch 9/80\n",
      "22825/22825 [==============================] - 619s 27ms/step - loss: 0.3521\n",
      "Epoch 10/80\n",
      "22825/22825 [==============================] - 619s 27ms/step - loss: 0.3521\n",
      "Epoch 11/80\n",
      "22825/22825 [==============================] - 618s 27ms/step - loss: 0.3521\n",
      "Epoch 12/80\n",
      "22825/22825 [==============================] - 618s 27ms/step - loss: 0.3521\n",
      "Epoch 13/80\n",
      "22825/22825 [==============================] - 620s 27ms/step - loss: 0.3521\n",
      "Epoch 14/80\n",
      "22825/22825 [==============================] - 619s 27ms/step - loss: 0.3521\n",
      "Epoch 15/80\n",
      "22825/22825 [==============================] - 617s 27ms/step - loss: 0.3521\n",
      "Epoch 16/80\n",
      "22825/22825 [==============================] - 616s 27ms/step - loss: 0.3521\n",
      "Epoch 17/80\n",
      "22825/22825 [==============================] - 616s 27ms/step - loss: 0.3521\n",
      "Epoch 18/80\n",
      "22825/22825 [==============================] - 617s 27ms/step - loss: 0.3521\n",
      "Epoch 19/80\n",
      "22825/22825 [==============================] - 617s 27ms/step - loss: 0.3521\n",
      "Epoch 20/80\n",
      "22825/22825 [==============================] - 617s 27ms/step - loss: 0.3521\n",
      "Epoch 21/80\n",
      "22825/22825 [==============================] - 617s 27ms/step - loss: 0.3521\n",
      "Epoch 22/80\n",
      "22825/22825 [==============================] - 620s 27ms/step - loss: 0.3521\n",
      "Epoch 23/80\n",
      "22825/22825 [==============================] - 620s 27ms/step - loss: 0.3521\n",
      "Epoch 24/80\n",
      "22825/22825 [==============================] - 624s 27ms/step - loss: 0.3521\n",
      "Epoch 25/80\n",
      "22825/22825 [==============================] - 631s 28ms/step - loss: 0.3521\n",
      "Epoch 26/80\n",
      "22825/22825 [==============================] - 620s 27ms/step - loss: 0.3521\n",
      "Epoch 27/80\n",
      "22825/22825 [==============================] - 620s 27ms/step - loss: 0.3521\n",
      "Epoch 28/80\n",
      "22825/22825 [==============================] - 620s 27ms/step - loss: 0.3521\n",
      "Epoch 29/80\n",
      "22825/22825 [==============================] - 620s 27ms/step - loss: 0.3521\n",
      "Epoch 30/80\n",
      "22825/22825 [==============================] - 621s 27ms/step - loss: 0.3521\n",
      "Epoch 31/80\n",
      "22825/22825 [==============================] - 622s 27ms/step - loss: 0.3521\n",
      "Epoch 32/80\n",
      "22825/22825 [==============================] - 622s 27ms/step - loss: 0.3521\n",
      "Epoch 33/80\n",
      "22825/22825 [==============================] - 622s 27ms/step - loss: 0.3521\n",
      "Epoch 34/80\n",
      "22825/22825 [==============================] - 622s 27ms/step - loss: 0.3521\n",
      "Epoch 35/80\n",
      "22825/22825 [==============================] - 622s 27ms/step - loss: 0.3521\n",
      "Epoch 36/80\n",
      "22825/22825 [==============================] - 622s 27ms/step - loss: 0.3521\n",
      "Epoch 37/80\n",
      "22825/22825 [==============================] - 622s 27ms/step - loss: 0.3521\n",
      "Epoch 38/80\n",
      "22825/22825 [==============================] - 622s 27ms/step - loss: 0.3521\n",
      "Epoch 39/80\n",
      "22825/22825 [==============================] - 622s 27ms/step - loss: 0.3521\n",
      "Epoch 40/80\n",
      "22825/22825 [==============================] - 622s 27ms/step - loss: 0.3521\n",
      "Epoch 41/80\n",
      "22825/22825 [==============================] - 622s 27ms/step - loss: 0.3521\n",
      "Epoch 42/80\n",
      "22825/22825 [==============================] - 623s 27ms/step - loss: 0.3521\n",
      "Epoch 43/80\n",
      "22825/22825 [==============================] - 623s 27ms/step - loss: 0.3521\n",
      "Epoch 44/80\n",
      "22825/22825 [==============================] - 622s 27ms/step - loss: 0.3521\n",
      "Epoch 45/80\n",
      "22825/22825 [==============================] - 622s 27ms/step - loss: 0.3521\n",
      "Epoch 46/80\n",
      "22825/22825 [==============================] - 622s 27ms/step - loss: 0.3521\n",
      "Epoch 47/80\n",
      "22825/22825 [==============================] - 622s 27ms/step - loss: 0.3521\n",
      "Epoch 48/80\n",
      "22825/22825 [==============================] - 622s 27ms/step - loss: 0.3521\n",
      "Epoch 49/80\n",
      "22825/22825 [==============================] - 622s 27ms/step - loss: 0.3521\n",
      "Epoch 50/80\n",
      "22825/22825 [==============================] - 622s 27ms/step - loss: 0.3521\n",
      "Epoch 51/80\n",
      "22825/22825 [==============================] - 622s 27ms/step - loss: 0.3521\n",
      "Epoch 52/80\n",
      "22825/22825 [==============================] - 630s 28ms/step - loss: 0.3521\n",
      "Epoch 53/80\n",
      "22825/22825 [==============================] - 632s 28ms/step - loss: 0.3521\n",
      "Epoch 54/80\n",
      "22825/22825 [==============================] - 622s 27ms/step - loss: 0.3521\n",
      "Epoch 55/80\n",
      "22825/22825 [==============================] - 621s 27ms/step - loss: 0.3521\n",
      "Epoch 56/80\n",
      "22825/22825 [==============================] - 621s 27ms/step - loss: 0.3521\n",
      "Epoch 57/80\n",
      "22825/22825 [==============================] - 621s 27ms/step - loss: 0.3521\n",
      "Epoch 58/80\n",
      "22825/22825 [==============================] - 621s 27ms/step - loss: 0.3521\n",
      "Epoch 59/80\n",
      "22825/22825 [==============================] - 621s 27ms/step - loss: 0.3521\n",
      "Epoch 60/80\n",
      "22825/22825 [==============================] - 621s 27ms/step - loss: 0.3521\n",
      "Epoch 61/80\n",
      "22825/22825 [==============================] - 621s 27ms/step - loss: 0.3521\n",
      "Epoch 62/80\n",
      "22825/22825 [==============================] - 621s 27ms/step - loss: 0.3521\n",
      "Epoch 63/80\n",
      "22825/22825 [==============================] - 621s 27ms/step - loss: 0.3521\n",
      "Epoch 64/80\n",
      "22825/22825 [==============================] - 621s 27ms/step - loss: 0.3521\n",
      "Epoch 65/80\n",
      "22825/22825 [==============================] - 621s 27ms/step - loss: 0.3521\n",
      "Epoch 66/80\n",
      "22825/22825 [==============================] - 621s 27ms/step - loss: 0.3521\n",
      "Epoch 67/80\n",
      "22825/22825 [==============================] - 621s 27ms/step - loss: 0.3521\n",
      "Epoch 68/80\n",
      "22825/22825 [==============================] - 622s 27ms/step - loss: 0.3521\n",
      "Epoch 69/80\n",
      "22825/22825 [==============================] - 645s 28ms/step - loss: 0.3521\n",
      "Epoch 70/80\n",
      "22825/22825 [==============================] - 646s 28ms/step - loss: 0.3521\n",
      "Epoch 71/80\n",
      "22825/22825 [==============================] - 630s 28ms/step - loss: 0.3521\n",
      "Epoch 72/80\n",
      "22825/22825 [==============================] - 621s 27ms/step - loss: 0.3521\n",
      "Epoch 73/80\n",
      "22825/22825 [==============================] - 621s 27ms/step - loss: 0.3521\n",
      "Epoch 74/80\n",
      "22825/22825 [==============================] - 621s 27ms/step - loss: 0.3521\n",
      "Epoch 75/80\n",
      "22825/22825 [==============================] - 622s 27ms/step - loss: 0.3521\n",
      "Epoch 76/80\n",
      "22825/22825 [==============================] - 621s 27ms/step - loss: 0.3521\n",
      "Epoch 77/80\n",
      "22825/22825 [==============================] - 621s 27ms/step - loss: 0.3521\n",
      "Epoch 78/80\n",
      "22825/22825 [==============================] - 649s 28ms/step - loss: 0.3521\n",
      "Epoch 79/80\n",
      "22825/22825 [==============================] - 642s 28ms/step - loss: 0.3521\n",
      "Epoch 80/80\n",
      "22825/22825 [==============================] - 637s 28ms/step - loss: 0.3521\n"
     ]
    },
    {
     "data": {
      "text/plain": [
       "<keras.callbacks.History at 0x2966c459cd0>"
      ]
     },
     "execution_count": 74,
     "metadata": {},
     "output_type": "execute_result"
    }
   ],
   "source": [
    "#parametros de entrenamiento\n",
    "forecaster.fit(trainX, y_train, epochs=80, batch_size=32)"
   ]
  },
  {
   "cell_type": "code",
   "execution_count": 75,
   "metadata": {
    "id": "ICHbLHCFkgIb"
   },
   "outputs": [],
   "source": [
    "#forecaster.save('./RNN_v1.h5')"
   ]
  },
  {
   "cell_type": "code",
   "execution_count": 76,
   "metadata": {
    "id": "sYaAZ_MrbK-w"
   },
   "outputs": [],
   "source": [
    "forecaster.save('./RNN_Final2.h5')"
   ]
  },
  {
   "cell_type": "code",
   "execution_count": 221,
   "metadata": {
    "colab": {
     "base_uri": "https://localhost:8080/",
     "height": 423
    },
    "id": "skOKREaiePGt",
    "outputId": "e3863651-7c6f-4c46-a865-fede330829e6"
   },
   "outputs": [
    {
     "data": {
      "text/plain": [
       "(912970, 30, 1)"
      ]
     },
     "execution_count": 221,
     "metadata": {},
     "output_type": "execute_result"
    }
   ],
   "source": [
    "#x_train, x_test, y_train, y_test\n",
    "\n",
    "dataset_total = np.concatenate((x_train, x_test), axis=0)\n",
    "#prueba_arreglo = [len(dataset_total) - len(x_test) - ventana ]\n",
    "dataset_total.shape\n",
    "#dataset_total = y_train_2da_parte"
   ]
  },
  {
   "cell_type": "code",
   "execution_count": 218,
   "metadata": {
    "id": "tbfcLco8frq8"
   },
   "outputs": [
    {
     "data": {
      "text/plain": [
       "()"
      ]
     },
     "execution_count": 218,
     "metadata": {},
     "output_type": "execute_result"
    }
   ],
   "source": [
    "input_test = dataset_total[len(dataset_total) - len(x_test) - ventana  ]\n",
    "#input_test = input_test.reshape(-1, 1)\n",
    "#input_test = scaler.fit_transform(input_test)\n",
    "input_test.shape"
   ]
  },
  {
   "cell_type": "code",
   "execution_count": 195,
   "metadata": {
    "id": "39SXXrTGuHc0"
   },
   "outputs": [
    {
     "data": {
      "text/plain": [
       "30"
      ]
     },
     "execution_count": 195,
     "metadata": {},
     "output_type": "execute_result"
    }
   ],
   "source": [
    "cantidad_final = len(input_test)\n",
    "cantidad_final"
   ]
  },
  {
   "cell_type": "code",
   "execution_count": 91,
   "metadata": {
    "id": "iQxnB25XuJGD"
   },
   "outputs": [],
   "source": [
    "x_test2 = []\n",
    "for i in range(ventana, cantidad_final):\n",
    "  x_test.append(input_test[i - ventana:i, 0])\n",
    "\n",
    "x_test2 = np.array(x_test2)"
   ]
  },
  {
   "cell_type": "code",
   "execution_count": 92,
   "metadata": {
    "id": "ITDqko6Aualk"
   },
   "outputs": [
    {
     "data": {
      "text/plain": [
       "(0,)"
      ]
     },
     "execution_count": 92,
     "metadata": {},
     "output_type": "execute_result"
    }
   ],
   "source": [
    "x_test2.shape"
   ]
  },
  {
   "cell_type": "code",
   "execution_count": 95,
   "metadata": {
    "id": "x4XP9SMTuca0"
   },
   "outputs": [
    {
     "ename": "IndexError",
     "evalue": "tuple index out of range",
     "output_type": "error",
     "traceback": [
      "\u001b[1;31m---------------------------------------------------------------------------\u001b[0m",
      "\u001b[1;31mIndexError\u001b[0m                                Traceback (most recent call last)",
      "Input \u001b[1;32mIn [95]\u001b[0m, in \u001b[0;36m<cell line: 1>\u001b[1;34m()\u001b[0m\n\u001b[1;32m----> 1\u001b[0m x_test \u001b[38;5;241m=\u001b[39m np\u001b[38;5;241m.\u001b[39mreshape(x_test, (x_test\u001b[38;5;241m.\u001b[39mshape[\u001b[38;5;241m0\u001b[39m], \u001b[43mx_test\u001b[49m\u001b[38;5;241;43m.\u001b[39;49m\u001b[43mshape\u001b[49m\u001b[43m[\u001b[49m\u001b[38;5;241;43m1\u001b[39;49m\u001b[43m]\u001b[49m))\n",
      "\u001b[1;31mIndexError\u001b[0m: tuple index out of range"
     ]
    }
   ],
   "source": [
    "x_test2 = np.reshape(x_test2, (x_test2.shape[0], x_test2.shape[1]))"
   ]
  },
  {
   "cell_type": "code",
   "execution_count": 222,
   "metadata": {
    "id": "4sOkUYQnukmn"
   },
   "outputs": [
    {
     "name": "stdout",
     "output_type": "stream",
     "text": [
      "28531/28531 [==============================] - 249s 9ms/step\n"
     ]
    },
    {
     "data": {
      "text/plain": [
       "array([[0.        ],\n",
       "       [0.00736848],\n",
       "       [0.00083661],\n",
       "       ...,\n",
       "       [0.00434431],\n",
       "       [0.00517822],\n",
       "       [0.00170642]], dtype=float32)"
      ]
     },
     "execution_count": 222,
     "metadata": {},
     "output_type": "execute_result"
    }
   ],
   "source": [
    "predicciones_rnn = forecaster.predict(dataset_total)\n",
    "predicciones_rnn"
   ]
  },
  {
   "cell_type": "code",
   "execution_count": 223,
   "metadata": {
    "id": "mV4uFVJquhkd"
   },
   "outputs": [
    {
     "data": {
      "text/plain": [
       "(912970, 1)"
      ]
     },
     "execution_count": 223,
     "metadata": {},
     "output_type": "execute_result"
    }
   ],
   "source": [
    "predicciones_rnn.shape"
   ]
  },
  {
   "cell_type": "code",
   "execution_count": 224,
   "metadata": {
    "id": "cYH9VcGEurf0"
   },
   "outputs": [
    {
     "data": {
      "text/plain": [
       "array([[1.       ],\n",
       "       [1.0073684],\n",
       "       [1.0008366],\n",
       "       ...,\n",
       "       [1.0043443],\n",
       "       [1.0051782],\n",
       "       [1.0017064]], dtype=float32)"
      ]
     },
     "execution_count": 224,
     "metadata": {},
     "output_type": "execute_result"
    }
   ],
   "source": [
    "#invertimos noramalizacion\n",
    "real_predicted_price = scaler.inverse_transform(predicciones_rnn)\n",
    "real_predicted_price"
   ]
  },
  {
   "cell_type": "code",
   "execution_count": 225,
   "metadata": {
    "id": "Dikdec7aus1P"
   },
   "outputs": [
    {
     "data": {
      "image/png": "[encoded data removed]",
      "text/plain": [
       "<Figure size 640x480 with 1 Axes>"
      ]
     },
     "metadata": {},
     "output_type": "display_data"
    }
   ],
   "source": [
    "plt.plot(y, color=\"red\", label=\"Real\")\n",
    "plt.plot(real_predicted_price, color=\"blue\", label=\"RNN\")\n",
    "plt.title(\"Real vrs Predicción RNN\")\n",
    "plt.xlabel(\"Fecha\")\n",
    "plt.ylabel(\"Valor\")\n",
    "plt.legend()\n",
    "plt.show()"
   ]
  }
 ],
 "metadata": {
  "colab": {
   "provenance": []
  },
  "kernelspec": {
   "display_name": "Python 3 (ipykernel)",
   "language": "python",
   "name": "python3"
  },
  "language_info": {
   "codemirror_mode": {
    "name": "ipython",
    "version": 3
   },
   "file_extension": ".py",
   "mimetype": "text/x-python",
   "name": "python",
   "nbconvert_exporter": "python",
   "pygments_lexer": "ipython3",
   "version": "3.9.13"
  }
 },
 "nbformat": 4,
 "nbformat_minor": 1
}
